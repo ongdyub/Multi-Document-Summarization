{
 "cells": [
  {
   "cell_type": "code",
   "execution_count": null,
   "metadata": {},
   "outputs": [],
   "source": [
    "import sys\n",
    "sys.path.append('.')\n",
    "\n",
    "# 경로는 위치에 맞게 적절히 import\n",
    "import torch\n",
    "from transformers import AutoTokenizer, BartForConditionalGeneration\n",
    "from sentence_transformers import SentenceTransformer\n",
    "\n",
    "from summary.create_total_summary import create_total_summary\n",
    "\n",
    "# device setting\n",
    "device = torch.device(\"cuda\" if torch.cuda.is_available() else \"cpu\")\n",
    "\n",
    "# 사전 학습된 모델 load\n",
    "model_path = \"./summary/model/model.pt\"\n",
    "model = BartForConditionalGeneration.from_pretrained(\"gogamza/kobart-base-v2\")\n",
    "model.load_state_dict(torch.load(model_path, map_location=torch.device(device)))\n",
    "model.to(device)\n",
    "model.eval()\n",
    "\n",
    "# 사전 학습된 tokenizer load\n",
    "tokenizer = AutoTokenizer.from_pretrained('gogamza/kobart-base-v2')\n",
    "\n",
    "# 사전 학습된 BERT model load\n",
    "bert_model = SentenceTransformer('jhgan/ko-sbert-sts')\n",
    "bert_model.to(device)"
   ]
  },
  {
   "cell_type": "code",
   "execution_count": 3,
   "metadata": {},
   "outputs": [
    {
     "name": "stdout",
     "output_type": "stream",
     "text": [
      "\n",
      "##################### Final Result #####################\n",
      "미국 젊은이들이 틱톡에 푹 빠져있으며 특히 젊은 층에서 인기가 높아지면서 폭발적인 성장세를 보이고 있는 더우인의 글로벌 버전인 '틱 톡'이 출시되면서 주목을 받고 있다. 중국\n",
      "정부가 신에너지자동차 보조금을 중단하면서 기존 전략을 고수하기 어려워졌고 이에 따라 CATL은 해외 생산시설 확충과 함께 판매망을 확대하고 있으며 하지만 미국 의회 일각에선 중국의\n",
      "우회 전략으로 IRTA의 보조금 지원을 받는다고 비난하고 있어 무산될 가능성도 있다. S&P500은 올해 12% 상승했지만 소수 빅테크 기업의 주가를 제외하면 여전히 마이너스\n",
      "상태이며 특히 최근 고점에서 20% 이상 주가가 하락할 경우를 베어마켓으로 규정한다. 미국 피츠버그 대학 의대 트리크 파스코알 교수 연구팀이 뇌 신경세포를 돕는 보조 세포인\n",
      "성상세포와 알츠하이머 치매의 연관성을 밝혀냈다.\n"
     ]
    }
   ],
   "source": [
    "# Run single total summary sentence\n",
    "import textwrap\n",
    "\n",
    "total = create_total_summary([\n",
    "            \"미국 젊은이들이 틱톡에 푹 빠져있으며 중국 공산당까지 거론되고 있고 특히 젊은 층에서 인기가 높아지면서 폭발적인 성장세를 보이고 있는 더우인의 글로벌 버전인 '틱 톡'이 출시되면서 주목을 받고 있다.\",\n",
    "            \"중국 정부가 신에너지자동차 보조금을 중단하면서 기존 전략을 고수하기 어려워졌고 이에 따라 CATL은 해외 생산시설 확충과 함께 판매망을 확대하고 있으며 하지만 미국 의회 일각에선 중국의 우회 전략으로 IRTA의 보조금 지원을 받는다고 비난하고 있어 무산될 가능성도 있다.\",\n",
    "            \"S&P500은 올해 12% 상승했지만 소수 빅테크 기업의 주가를 제외하면 여전히 마이너스 상태이며 특히 최근 고점에서 20% 이상 주가가 하락할 경우를 베어마켓으로 규정한다.\",\n",
    "            \"미국 피츠버그 대학 의대 트리크 파스코알 교수 연구팀이 뇌 신경세포를 돕는 보조 세포인 성상세포와 알츠하이머 치매의 연관성을 밝혀냈다.\",\n",
    "            \"미국 젊은이들이 틱톡에 푹 빠져있으며 중국 공산당까지 거론되고 있고 특히 젊은 층에서 인기가 높아지면서 폭발적인 성장세를 보이고 있는 더우인의 글로벌 버전인 '틱 톡'이 출시되면서 주목을 받고 있다.\"\n",
    "], bert_model, model, tokenizer)\n",
    "\n",
    "print()\n",
    "print(\"##################### Final Result #####################\")\n",
    "print(textwrap.fill(total, width = 100))"
   ]
  }
 ],
 "metadata": {
  "kernelspec": {
   "display_name": "Python 3",
   "language": "python",
   "name": "python3"
  },
  "language_info": {
   "codemirror_mode": {
    "name": "ipython",
    "version": 3
   },
   "file_extension": ".py",
   "mimetype": "text/x-python",
   "name": "python",
   "nbconvert_exporter": "python",
   "pygments_lexer": "ipython3",
   "version": "3.10.8"
  },
  "orig_nbformat": 4
 },
 "nbformat": 4,
 "nbformat_minor": 2
}
